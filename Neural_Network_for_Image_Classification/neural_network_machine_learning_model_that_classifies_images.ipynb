{
  "nbformat": 4,
  "nbformat_minor": 0,
  "metadata": {
    "colab": {
      "provenance": []
    },
    "kernelspec": {
      "name": "python3",
      "display_name": "Python 3"
    },
    "language_info": {
      "name": "python"
    }
  },
  "cells": [
    {
      "cell_type": "markdown",
      "source": [
        "# Neural Network machine learning model that classifies images."
      ],
      "metadata": {
        "id": "096d-EtU5Tnm"
      }
    },
    {
      "cell_type": "code",
      "execution_count": 1,
      "metadata": {
        "colab": {
          "base_uri": "https://localhost:8080/"
        },
        "id": "Wv95Yse44KEh",
        "outputId": "0d121023-b7f6-4bf1-9090-9739f502c8bd"
      },
      "outputs": [
        {
          "output_type": "stream",
          "name": "stdout",
          "text": [
            "Tensorflow version:  2.12.0\n"
          ]
        }
      ],
      "source": [
        "#import dependencies and print the version\n",
        "\n",
        "import tensorflow as tf\n",
        "print(\"Tensorflow version: \",tf.__version__)"
      ]
    },
    {
      "cell_type": "code",
      "source": [
        "#load and prepare the MNIST dataset\n",
        "\"\"\" The pixel values of the images range from 0 through 255. \n",
        "Scale these values to a range of 0 to 1 by dividing the values by 255.0. \n",
        "This also converts the sample data from integers to floating-point numbers\"\"\"\n",
        "\n",
        "mnist = tf.keras.datasets.mnist\n",
        "\n",
        "(x_train,y_train),(x_test,y_test) = mnist.load_data()\n",
        "x_train, x_test = x_train/255.0, x_test/255.0"
      ],
      "metadata": {
        "colab": {
          "base_uri": "https://localhost:8080/"
        },
        "id": "P5viM1PV6S_D",
        "outputId": "a07cf53c-a51e-47bd-ae78-c26ab159d60d"
      },
      "execution_count": 3,
      "outputs": [
        {
          "output_type": "stream",
          "name": "stdout",
          "text": [
            "Downloading data from https://storage.googleapis.com/tensorflow/tf-keras-datasets/mnist.npz\n",
            "11490434/11490434 [==============================] - 0s 0us/step\n"
          ]
        }
      ]
    },
    {
      "cell_type": "code",
      "source": [
        "#Build a tf.keras.Sequential model\n",
        "\n",
        "model = tf.keras.models.Sequential([\n",
        "    tf.keras.layers.Flatten(input_shape=(28,28)),\n",
        "    tf.keras.layers.Dense(128, activation='relu'),\n",
        "    tf.keras.layers.Dropout(0.2),\n",
        "    tf.keras.layers.Dense(10)\n",
        "])\n",
        "\n",
        "\"\"\"Sequential is useful for stacking layers where each layer has one input tensor and one output tensor. \n",
        "Layers are functions with a known mathematical structure that can be reused and have trainable variables. \n",
        "Most TensorFlow models are composed of layers. This model uses the Flatten, Dense, and Dropout layers\"\"\""
      ],
      "metadata": {
        "id": "SccPCEg67Jz-"
      },
      "execution_count": 4,
      "outputs": []
    },
    {
      "cell_type": "code",
      "source": [
        "#model returns a vector of logits or log-odds scores, one for each class\n",
        "\n",
        "predictions = model(x_train[:1]).numpy()\n",
        "predictions"
      ],
      "metadata": {
        "colab": {
          "base_uri": "https://localhost:8080/"
        },
        "id": "9smLCYeg8TpF",
        "outputId": "57b6f5bd-4a58-4f99-d79e-3485824cad14"
      },
      "execution_count": 5,
      "outputs": [
        {
          "output_type": "execute_result",
          "data": {
            "text/plain": [
              "array([[ 0.08309615, -0.09980469,  0.18545529,  0.08567674, -0.57978845,\n",
              "         0.25442043,  0.03414473,  0.10578331,  0.07636791,  0.39197958]],\n",
              "      dtype=float32)"
            ]
          },
          "metadata": {},
          "execution_count": 5
        }
      ]
    },
    {
      "cell_type": "code",
      "source": [
        "#tf.nn.softmax function converts these logits to probabilities for each class\n",
        "\n",
        "tf.nn.softmax(predictions).numpy()"
      ],
      "metadata": {
        "colab": {
          "base_uri": "https://localhost:8080/"
        },
        "id": "QQYD-aLg8nlu",
        "outputId": "0cfbbcc2-2a4c-4dcb-f19e-4c4ba7e76e2f"
      },
      "execution_count": 6,
      "outputs": [
        {
          "output_type": "execute_result",
          "data": {
            "text/plain": [
              "array([[0.10024232, 0.08348689, 0.11104658, 0.10050134, 0.05166114,\n",
              "        0.11897517, 0.09545349, 0.10254253, 0.09957014, 0.13652039]],\n",
              "      dtype=float32)"
            ]
          },
          "metadata": {},
          "execution_count": 6
        }
      ]
    },
    {
      "cell_type": "code",
      "source": [
        "#define loss function for training using losses.SparseCategoricalCrossentropy\n",
        "\n",
        "loss_fn = tf.keras.losses.SparseCategoricalCrossentropy(from_logits = True)\n",
        "\n",
        "\"\"\"The loss function takes a vector of ground truth values and a vector of logits and returns a scalar loss for each example.\n",
        " This loss is equal to the negative log probability of the true class: The loss is zero if the model is sure of the correct class.\"\"\""
      ],
      "metadata": {
        "id": "BXMPQXQe89pb"
      },
      "execution_count": 8,
      "outputs": []
    },
    {
      "cell_type": "code",
      "source": [
        "#untrained model initial loss\n",
        "\n",
        "loss_fn(y_train[:1],predictions).numpy()"
      ],
      "metadata": {
        "colab": {
          "base_uri": "https://localhost:8080/"
        },
        "id": "xHDjlA8w9wCA",
        "outputId": "d63dd5ac-cac3-42c5-9bf3-f2012acce579"
      },
      "execution_count": 9,
      "outputs": [
        {
          "output_type": "execute_result",
          "data": {
            "text/plain": [
              "2.1288404"
            ]
          },
          "metadata": {},
          "execution_count": 9
        }
      ]
    },
    {
      "cell_type": "code",
      "source": [
        "#before training,configure and compile the model using Keras Model.compile.\n",
        "#set the optimizer class to adam, set the loss to the loss_fn function you defined earlier and specify a metric to be evaluated for the model by setting the metrics parameter to accuracy\n",
        "\n",
        "model.compile(optimizer= 'adam',\n",
        "              loss=loss_fn,\n",
        "              metrics=['accuracy'])"
      ],
      "metadata": {
        "id": "tXbWjPTu-N7Z"
      },
      "execution_count": 10,
      "outputs": []
    },
    {
      "cell_type": "code",
      "source": [
        "#Train an devaluate the model\n",
        "\n",
        "model.fit(x_train,y_train,epochs=5)"
      ],
      "metadata": {
        "colab": {
          "base_uri": "https://localhost:8080/"
        },
        "id": "ngPZPUsF--4J",
        "outputId": "1694a733-56dd-4744-aa9c-1ca27d030b8b"
      },
      "execution_count": 11,
      "outputs": [
        {
          "output_type": "stream",
          "name": "stdout",
          "text": [
            "Epoch 1/5\n",
            "1875/1875 [==============================] - 8s 4ms/step - loss: 0.2981 - accuracy: 0.9135\n",
            "Epoch 2/5\n",
            "1875/1875 [==============================] - 6s 3ms/step - loss: 0.1429 - accuracy: 0.9577\n",
            "Epoch 3/5\n",
            "1875/1875 [==============================] - 7s 4ms/step - loss: 0.1068 - accuracy: 0.9676\n",
            "Epoch 4/5\n",
            "1875/1875 [==============================] - 6s 3ms/step - loss: 0.0879 - accuracy: 0.9736\n",
            "Epoch 5/5\n",
            "1875/1875 [==============================] - 7s 4ms/step - loss: 0.0744 - accuracy: 0.9773\n"
          ]
        },
        {
          "output_type": "execute_result",
          "data": {
            "text/plain": [
              "<keras.callbacks.History at 0x7fb22f2be080>"
            ]
          },
          "metadata": {},
          "execution_count": 11
        }
      ]
    },
    {
      "cell_type": "code",
      "source": [
        "#check the model performance\n",
        "\n",
        "model.evaluate(x_test,y_test, verbose=2)"
      ],
      "metadata": {
        "colab": {
          "base_uri": "https://localhost:8080/"
        },
        "id": "BfxLtqXH_XQR",
        "outputId": "0c0081c1-f1cc-48c7-8912-1389c52feeff"
      },
      "execution_count": 12,
      "outputs": [
        {
          "output_type": "stream",
          "name": "stdout",
          "text": [
            "313/313 - 1s - loss: 0.0756 - accuracy: 0.9762 - 557ms/epoch - 2ms/step\n"
          ]
        },
        {
          "output_type": "execute_result",
          "data": {
            "text/plain": [
              "[0.07563043385744095, 0.9761999845504761]"
            ]
          },
          "metadata": {},
          "execution_count": 12
        }
      ]
    },
    {
      "cell_type": "code",
      "source": [
        "#to return a probability\n",
        "\n",
        "probability_model = tf.keras.Sequential([\n",
        "    model,\n",
        "    tf.keras.layers.Softmax()\n",
        "])"
      ],
      "metadata": {
        "id": "7wiWSKDr_rHJ"
      },
      "execution_count": 13,
      "outputs": []
    },
    {
      "cell_type": "code",
      "source": [
        "probability_model(x_test[:5])"
      ],
      "metadata": {
        "colab": {
          "base_uri": "https://localhost:8080/"
        },
        "id": "hGvsAX34_5_3",
        "outputId": "87a87d79-1df5-4010-ee6d-64f58a1c96d4"
      },
      "execution_count": 14,
      "outputs": [
        {
          "output_type": "execute_result",
          "data": {
            "text/plain": [
              "<tf.Tensor: shape=(5, 10), dtype=float32, numpy=\n",
              "array([[2.15838938e-07, 2.54839505e-09, 3.21319681e-06, 1.23296821e-04,\n",
              "        2.61027415e-11, 1.65444661e-07, 8.40939406e-13, 9.99871850e-01,\n",
              "        7.25560767e-08, 1.19727304e-06],\n",
              "       [2.43137208e-07, 5.10046165e-03, 9.94884312e-01, 9.09086884e-06,\n",
              "        8.74391011e-12, 4.75774232e-06, 4.38247099e-07, 9.03235819e-11,\n",
              "        5.65560583e-07, 3.69276902e-13],\n",
              "       [3.26749699e-07, 9.99728382e-01, 1.61423231e-05, 1.39202375e-05,\n",
              "        6.90631987e-06, 1.02269214e-05, 6.87773863e-05, 7.02909820e-05,\n",
              "        8.45419781e-05, 4.32693895e-07],\n",
              "       [9.98486638e-01, 5.52497492e-10, 1.01760328e-04, 8.58002693e-07,\n",
              "        1.22928368e-05, 8.73788395e-06, 1.25156483e-03, 1.23868012e-04,\n",
              "        1.78427157e-07, 1.41626715e-05],\n",
              "       [2.77442791e-06, 2.36022188e-08, 2.19832782e-05, 6.88166253e-08,\n",
              "        9.99678493e-01, 7.43570467e-07, 5.17849139e-06, 6.04085217e-05,\n",
              "        2.36308028e-06, 2.27966113e-04]], dtype=float32)>"
            ]
          },
          "metadata": {},
          "execution_count": 14
        }
      ]
    }
  ]
}